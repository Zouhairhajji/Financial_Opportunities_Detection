{
 "cells": [
  {
   "cell_type": "code",
   "execution_count": 136,
   "metadata": {},
   "outputs": [],
   "source": [
    "import pandas as pd\n",
    "import warnings\n",
    "import datetime as dt\n",
    "import numpy as np\n",
    "import tweepy as tw\n",
    "import urllib.parse as urlparse\n",
    "from urllib.parse import urlencode\n",
    "\n",
    "\n",
    "\n",
    "from vaderSentiment.vaderSentiment import SentimentIntensityAnalyzer \n",
    "\n",
    "\n",
    "\n"
   ]
  },
  {
   "cell_type": "code",
   "execution_count": 35,
   "metadata": {},
   "outputs": [],
   "source": [
    "\n",
    "\n",
    "# Authenticate to Twitter\n",
    "customer_key = \"5sL47zEucTdP8pLSHfOb1LVxW\"\n",
    "customer_pass = \"ZYwtuCuba7awnMfWtJEfMzHTPBdWSGYYWWSdSkRVvTKBHrgMBo\"\n",
    "access_token = \"1156933383924133890-tYOiiWGfKFbDtgFKt1JwLvsavgMWdc\"\n",
    "access_token_secret = \"8X8CnDwIOJt4PxJGufUJXQasAUvQEqKp9SLmTkYKZQMhm\"\n",
    "\n",
    "auth = tw.OAuthHandler(customer_key, customer_pass)\n",
    "auth.set_access_token(access_token, access_token_secret)\n",
    "\n",
    "# Create API object\n",
    "api = tw.API(auth, wait_on_rate_limit=True, wait_on_rate_limit_notify=True)"
   ]
  },
  {
   "cell_type": "code",
   "execution_count": 76,
   "metadata": {},
   "outputs": [],
   "source": [
    "search_words = \"Société Générale\"\n",
    "date_since = \"2018-11-16\"\n",
    "\n",
    "# Collect tweets\n",
    "tweets = tw.Cursor(api.search, q=search_words, lang=\"en\", since=date_since).items(1128)\n",
    "tweets = [tweet for tweet in tweets]"
   ]
  },
  {
   "cell_type": "code",
   "execution_count": 333,
   "metadata": {},
   "outputs": [],
   "source": [
    "financial_negative_vocab = [\n",
    "    'mergers and acquisitions', 'merger', \n",
    "]\n",
    "\n",
    "analyzer = SentimentIntensityAnalyzer()\n",
    "\n",
    "for tweet in tweets:\n",
    "    vs = analyzer.polarity_scores(tweet.text)\n",
    "        "
   ]
  },
  {
   "cell_type": "code",
   "execution_count": 344,
   "metadata": {},
   "outputs": [
    {
     "name": "stdout",
     "output_type": "stream",
     "text": [
      "{'neg': 0.0, 'neu': 0.508, 'pos': 0.492, 'compound': 0.4404}\n",
      "{'neg': 0.205, 'neu': 0.6, 'pos': 0.195, 'compound': -0.0258}\n"
     ]
    }
   ],
   "source": [
    "\n",
    "analyzer = SentimentIntensityAnalyzer()\n",
    "print( analyzer.polarity_scores('The restaurent was good') )\n",
    "print( analyzer.polarity_scores('The restaurent was good, but it was noisy') )"
   ]
  },
  {
   "cell_type": "code",
   "execution_count": null,
   "metadata": {},
   "outputs": [],
   "source": []
  },
  {
   "cell_type": "code",
   "execution_count": 316,
   "metadata": {},
   "outputs": [],
   "source": [
    "url = 'https://news.google.com/news/rss/headlines/section/topic/BUSINESS?'\n",
    "parameters = {\n",
    "    'q': 'PG&E Corp', # query phrase\n",
    "    'pageSize': 2, \n",
    "    'en': 'en' ,\n",
    "}\n",
    "\n",
    "url = url + urlencode(parameters)\n",
    "\n",
    "rss_reader = urlopen(url)\n",
    "rss_data = rss_reader.read()\n",
    "rss_reader.close()\n",
    "\n",
    "\n",
    "soup_page = soup(rss_data, \"xml\")\n",
    "news_list = soup_page.findAll(\"item\")"
   ]
  },
  {
   "cell_type": "code",
   "execution_count": 322,
   "metadata": {},
   "outputs": [
    {
     "name": "stdout",
     "output_type": "stream",
     "text": [
      "orange\n"
     ]
    }
   ],
   "source": [
    "analyzer = SentimentIntensityAnalyzer()\n",
    "global_result = {\n",
    "    'negative': 0,\n",
    "    'positive': 0,\n",
    "    'neutre': 0,\n",
    "}\n",
    "negative_tweets = []\n",
    "\n",
    "\n",
    "for news in news_list:\n",
    "    analyse_result = analyzer.polarity_scores(news.title.text)\n",
    "    global_result['negative'] += analyse_result['neg']\n",
    "    global_result['positive'] += analyse_result['pos']\n",
    "    global_result['neutre'] += analyse_result['neu']\n",
    "    \n",
    "    if(analyse_result['neg'] > 0.2):\n",
    "        negative_tweets.append( news.title.text )\n",
    "        \n",
    "flag_gravity = int( global_result['negative'] / global_result['positive'] )\n",
    "flags = ['green', 'orange', 'red', 'red', 'red']\n",
    "print(flags[flag_gravity]) "
   ]
  },
  {
   "cell_type": "markdown",
   "metadata": {},
   "source": [
    "# ameliored code"
   ]
  },
  {
   "cell_type": "code",
   "execution_count": 431,
   "metadata": {},
   "outputs": [
    {
     "name": "stdout",
     "output_type": "stream",
     "text": [
      "-\n"
     ]
    }
   ],
   "source": [
    "url = 'https://news.google.com/news/rss/headlines/section/topic/BUSINESS?'\n",
    "company_name = 'Societe Generale'\n",
    "parameters = {\n",
    "    'q': company_name, # query phrase\n",
    "    'pageSize': 2, \n",
    "    'en': 'en' ,\n",
    "}\n",
    "\n",
    "url = url + urlencode(parameters)\n",
    "\n",
    "rss_reader = urlopen(url)\n",
    "rss_data = rss_reader.read()\n",
    "rss_reader.close()\n",
    "\n",
    "soup_page = soup(rss_data, \"xml\")\n",
    "news_list = soup_page.findAll(\"item\")\n",
    "'''\n",
    "for i in news_list[23:26]:\n",
    "    link = i.link.text\n",
    "    text = i.title.text\n",
    "    sentimental_analysis = analyzer.polarity_scores(text)\n",
    "    print(\"- \", text) \n",
    "    print(\"      negative : \", sentimental_analysis['neg']*100, '%')\n",
    "    print(\"      positive : \", sentimental_analysis['pos']*100, '%')\n",
    "    print('-' * 100)\n",
    "'''\n",
    "print('-')\n"
   ]
  },
  {
   "cell_type": "code",
   "execution_count": null,
   "metadata": {},
   "outputs": [],
   "source": []
  },
  {
   "cell_type": "code",
   "execution_count": 433,
   "metadata": {},
   "outputs": [
    {
     "name": "stdout",
     "output_type": "stream",
     "text": [
      "Societe Generale : Aucun risque\n",
      "il y a  4 news négatifs\n",
      "   - French lender Societe Generale announces massive job cuts after terrible 4th quarter - Business Insider\n",
      "   -Société Générale chief says banking mergers make sense in Europe - Financial Times\n",
      "   -French Lender Societe Generale Issues $112 Million Bond on Ethereum - CoinDesk\n"
     ]
    }
   ],
   "source": [
    "\n",
    "\n",
    "global_result = {\n",
    "    'negative': 0,\n",
    "    'positive': 0,\n",
    "    'neutre': 0,\n",
    "}\n",
    "negative_tweets = []\n",
    "\n",
    "financial_negative_words = [\n",
    "    'acquire', 'merge', 'acquisition', 'm&a', 'negative', 'bankrupt', 'issue', ' ipo ', 'mna'\n",
    "]\n",
    "analyzer = SentimentIntensityAnalyzer()\n",
    "\n",
    "for news in news_list:\n",
    "    score = analyzer.polarity_scores(news.title.text)\n",
    "    \n",
    "    global_result['negative'] += score['neg']\n",
    "    global_result['positive'] += score['pos']\n",
    "    global_result['neutre'] += score['neu']\n",
    "    \n",
    "    for neg_word in financial_negative_words:\n",
    "        if( neg_word in news.title.text.lower() or score['neg'] > 0.3 ):\n",
    "            negative_tweets.append( news.title.text )\n",
    "            break\n",
    "\n",
    "flag_gravity = int( global_result['negative'] / global_result['positive'] )\n",
    "\n",
    "flags = ['Aucun risque', 'Risque modéré', 'Risque élevé', 'Risque élevé', 'Risque élevé']\n",
    "company_flag = flags[flag_gravity]\n",
    "\n",
    "print(company_name,':' ,  company_flag )\n",
    "\n",
    "print('il y a ', len(negative_tweets), 'news négatifs')\n",
    "print('   -', '\\n   -'.join(negative_tweets[1:6]))"
   ]
  },
  {
   "cell_type": "code",
   "execution_count": null,
   "metadata": {},
   "outputs": [],
   "source": []
  },
  {
   "cell_type": "code",
   "execution_count": null,
   "metadata": {},
   "outputs": [],
   "source": []
  },
  {
   "cell_type": "code",
   "execution_count": null,
   "metadata": {},
   "outputs": [],
   "source": []
  },
  {
   "cell_type": "code",
   "execution_count": null,
   "metadata": {},
   "outputs": [],
   "source": []
  }
 ],
 "metadata": {
  "kernelspec": {
   "display_name": "Python 3",
   "language": "python",
   "name": "python3"
  },
  "language_info": {
   "codemirror_mode": {
    "name": "ipython",
    "version": 3
   },
   "file_extension": ".py",
   "mimetype": "text/x-python",
   "name": "python",
   "nbconvert_exporter": "python",
   "pygments_lexer": "ipython3",
   "version": "3.7.2"
  }
 },
 "nbformat": 4,
 "nbformat_minor": 2
}
