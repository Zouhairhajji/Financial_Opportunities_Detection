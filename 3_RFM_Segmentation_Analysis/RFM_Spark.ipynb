{
 "cells": [
  {
   "cell_type": "code",
   "execution_count": 14,
   "metadata": {},
   "outputs": [],
   "source": [
    "import pandas as pd\n",
    "import datetime as dt\n",
    "import numpy as np\n",
    "\n",
    "\n",
    "from pyspark.sql.functions import mean, min, max, sum, datediff, to_date\n",
    "from pyspark.sql.functions import to_utc_timestamp, unix_timestamp, lit, datediff, col\n",
    "\n",
    "from pyspark.sql import SparkSession\n",
    "\n",
    "spark = SparkSession \\\n",
    "    .builder \\\n",
    "    .appName(\"Python Spark RFM example\") \\\n",
    "    .config(\"spark.some.config.option\", \"some-value\") \\\n",
    "    .getOrCreate()\n",
    "\n",
    "sc = spark.sparkContext\n",
    "\n"
   ]
  },
  {
   "cell_type": "code",
   "execution_count": 20,
   "metadata": {},
   "outputs": [
    {
     "name": "stdout",
     "output_type": "stream",
     "text": [
      "root\n",
      " |-- _c0: integer (nullable = true)\n",
      " |-- company_name: string (nullable = true)\n",
      " |-- company_id: integer (nullable = true)\n",
      " |-- country: string (nullable = true)\n",
      " |-- sector_name: string (nullable = true)\n",
      " |-- order_id: integer (nullable = true)\n",
      " |-- product_name: string (nullable = true)\n",
      " |-- NBI: double (nullable = true)\n",
      " |-- order_date: timestamp (nullable = true)\n",
      "\n"
     ]
    }
   ],
   "source": [
    "\n",
    "flat_data_rdd = spark.read.format('com.databricks.spark.csv')   \\\n",
    "        .options(header='true',  inferschema='true') \\\n",
    "        .load('../ressources/data/financial_sells_1000000.csv',header=True);\n",
    "\n",
    "flat_data_rdd.printSchema()"
   ]
  },
  {
   "cell_type": "code",
   "execution_count": 21,
   "metadata": {},
   "outputs": [],
   "source": [
    "date_max = flat_data_rdd.select(max('order_date')).toPandas()\n",
    "current = to_utc_timestamp( unix_timestamp(lit(str(date_max.iloc[0][0])), 'yy-MM-dd').cast('timestamp'), 'UTC' )\n",
    "\n",
    "# Calculatre Duration\n",
    "flat_data_rdd = flat_data_rdd.withColumn('duration', datediff(lit(current), 'order_date'))"
   ]
  },
  {
   "cell_type": "code",
   "execution_count": 38,
   "metadata": {},
   "outputs": [
    {
     "data": {
      "text/plain": [
       "Column<b'to_utc_timestamp(CAST(unix_timestamp(2019-07-31 00:00:00, yy-MM-dd) AS TIMESTAMP), UTC)'>"
      ]
     },
     "execution_count": 38,
     "metadata": {},
     "output_type": "execute_result"
    }
   ],
   "source": [
    "current"
   ]
  },
  {
   "cell_type": "code",
   "execution_count": null,
   "metadata": {},
   "outputs": [],
   "source": []
  }
 ],
 "metadata": {
  "kernelspec": {
   "display_name": "Python 3",
   "language": "python",
   "name": "python3"
  },
  "language_info": {
   "codemirror_mode": {
    "name": "ipython",
    "version": 3
   },
   "file_extension": ".py",
   "mimetype": "text/x-python",
   "name": "python",
   "nbconvert_exporter": "python",
   "pygments_lexer": "ipython3",
   "version": "3.7.2"
  }
 },
 "nbformat": 4,
 "nbformat_minor": 2
}
