{
 "cells": [
  {
   "cell_type": "code",
   "execution_count": 379,
   "metadata": {},
   "outputs": [],
   "source": [
    "from pyspark import SparkContext, SparkConf\n",
    "from pyspark.sql import SparkSession\n",
    "\n",
    "\n",
    "from pyspark.sql.types import StringType, IntegerType, ArrayType\n",
    "from pyspark.sql.functions import udf\n",
    "from pyspark.sql import functions as F\n",
    "from pyspark.sql.functions import collect_set, collect_list\n",
    "import numpy as np\n",
    "\n",
    "\n",
    "\n",
    "def create_spark_context(master_ip='127.0.0.1'):\n",
    "    master_ip = 'spark://{}:7077'.format(master_ip)\n",
    "    spark = SparkSession.builder \\\n",
    "        .master(master_ip)  \\\n",
    "        .enableHiveSupport() \\\n",
    "        .getOrCreate()\n",
    "    \n",
    "    sc = spark.sparkContext\n",
    "\n",
    "    return (spark, sc)\n",
    "\n",
    "spark, sc = create_spark_context()"
   ]
  },
  {
   "cell_type": "code",
   "execution_count": 381,
   "metadata": {},
   "outputs": [
    {
     "name": "stdout",
     "output_type": "stream",
     "text": [
      "root\n",
      " |-- _c0: string (nullable = true)\n",
      " |-- company_name: string (nullable = true)\n",
      " |-- company_id: string (nullable = true)\n",
      " |-- country: string (nullable = true)\n",
      " |-- sector_name: string (nullable = true)\n",
      " |-- order_id: string (nullable = true)\n",
      " |-- product_name: string (nullable = true)\n",
      " |-- NBI: string (nullable = true)\n",
      " |-- order_date: string (nullable = true)\n",
      "\n"
     ]
    }
   ],
   "source": [
    "input_filename = '../ressources/data/financial_sells_100000.csv'\n",
    "separator = ','\n",
    "\n",
    "init_flat_data = spark.read         \\\n",
    "    .option(\"sep\", separator)  \\\n",
    "    .csv(input_filename, header=True)\n",
    "\n",
    "init_flat_data = init_flat_data.fillna(0)\n",
    "init_flat_data.printSchema()"
   ]
  },
  {
   "cell_type": "code",
   "execution_count": null,
   "metadata": {},
   "outputs": [],
   "source": []
  },
  {
   "cell_type": "code",
   "execution_count": null,
   "metadata": {},
   "outputs": [],
   "source": []
  },
  {
   "cell_type": "code",
   "execution_count": 404,
   "metadata": {},
   "outputs": [
    {
     "name": "stdout",
     "output_type": "stream",
     "text": [
      "+--------------------+--------------+--------------------+----------+--------------------+--------------------+----------+--------------------+\n",
      "|         sector_name|       country|        company_name|company_id|      product_bought|   all_product_group|diff_count|   unbought_products|\n",
      "+--------------------+--------------+--------------------+----------+--------------------+--------------------+----------+--------------------+\n",
      "|          Automotive|         Corse|         Adams Group|        75|Fund Distribution...|ALD Car Renting a...|         1|Asset Based Finan...|\n",
      "|   Chemical Industry|United Kinkdom|            Owen LLC|        72|Export Finance,Cr...|Export Finance,Eq...|         1|              Equity|\n",
      "| Electrical industry|         Italy|      Welch and Sons|        81| Commodity Financing|Financing,MCIB Fi...|         4|Fund Administrati...|\n",
      "| Electrical industry|       Espagne|      Powers-Woodard|        71| Commodity Financing|MCIB Financing,Fi...|         4|Fund Administrati...|\n",
      "|   Chemical Industry|         Corse|           Smith Inc|        82|              Equity|Export Finance,Eq...|         2|Credit,Export Fin...|\n",
      "|Metallurgical ind...|United Kinkdom|      Davis and Sons|        79|Hybrids,Mergers a...|Hybrids,Mergers a...|         2|Forex,Liquidity M...|\n",
      "|Metallurgical ind...|       Espagne|Stafford, Bradfor...|        64|Mergers and Acqui...|Hybrids,Mergers a...|         1|             Hybrids|\n",
      "|          Automotive|        France|         Braun Group|        70|Prime & Clearing,...|Fund Distribution...|         2|Fund Distribution...|\n",
      "|     Energy industry|        Suisse|       Nichols-Perry|        83|Life and Dammage ...|Clearing Services...|         4|Commodities,Clear...|\n",
      "|Metallurgical ind...|        France|     Campbell-Miller|        84|             Hybrids|Hybrids,Mergers a...|         3|Forex,Mergers and...|\n",
      "+--------------------+--------------+--------------------+----------+--------------------+--------------------+----------+--------------------+\n",
      "only showing top 10 rows\n",
      "\n",
      "None\n"
     ]
    }
   ],
   "source": [
    "rdd_product_by_group = init_flat_data  \\\n",
    "        .groupby(['sector_name', 'country'])   \\\n",
    "        .agg( collect_set('product_name').alias('all_product_group') )    \n",
    "\n",
    "grouped_customers = init_flat_data  \\\n",
    "        .groupby(['sector_name', 'country', 'company_name', 'company_id'])    \\\n",
    "        .agg(collect_set('product_name').alias('product_bought')) \n",
    "\n",
    "\n",
    "# define two methods that calculate unbought products\n",
    "calculate_diff = udf(lambda x, y: len(set(x) - set(y)) , IntegerType())\n",
    "calculate_unbought_products = udf(lambda x, y: list(set(x) - set(y)) , ArrayType(StringType()))\n",
    "\n",
    "#convert array to string\n",
    "convert_array2str = udf(lambda x: ','.join(x) , StringType())\n",
    "\n",
    "detection_result = grouped_customers    \\\n",
    "    .join(rdd_product_by_group, on=['sector_name', 'country'])  \\\n",
    "    .withColumn('diff_count', calculate_diff('all_product_group', 'product_bought')) \\\n",
    "    .withColumn('unbought_products', calculate_unbought_products('all_product_group', 'product_bought')) \\\n",
    "    .filter('diff_count > 0')\n",
    "\n",
    "\n",
    "# remove array columns\n",
    "detection_result = detection_result \\\n",
    "    .withColumn('unbought_products', convert_array2str('unbought_products'))  \\\n",
    "    .withColumn('product_bought', convert_array2str('product_bought'))  \\\n",
    "    .withColumn('all_product_group', convert_array2str('all_product_group')) \n",
    "\n",
    "\n",
    "\n",
    "print( detection_result.show(10) )"
   ]
  },
  {
   "cell_type": "code",
   "execution_count": 411,
   "metadata": {},
   "outputs": [],
   "source": [
    "detection_result.coalesce(1) \\\n",
    "    .write   \\\n",
    "    .format(\"csv\") \\\n",
    "    .mode('overwrite') \\\n",
    "    .option(\"header\", \"true\") \\\n",
    "    .save('../ressources/data/2_cross_selling_output')"
   ]
  },
  {
   "cell_type": "code",
   "execution_count": null,
   "metadata": {},
   "outputs": [],
   "source": []
  },
  {
   "cell_type": "code",
   "execution_count": null,
   "metadata": {},
   "outputs": [],
   "source": []
  },
  {
   "cell_type": "code",
   "execution_count": null,
   "metadata": {},
   "outputs": [],
   "source": []
  },
  {
   "cell_type": "code",
   "execution_count": null,
   "metadata": {},
   "outputs": [],
   "source": []
  }
 ],
 "metadata": {
  "kernelspec": {
   "display_name": "Python 3",
   "language": "python",
   "name": "python3"
  },
  "language_info": {
   "codemirror_mode": {
    "name": "ipython",
    "version": 3
   },
   "file_extension": ".py",
   "mimetype": "text/x-python",
   "name": "python",
   "nbconvert_exporter": "python",
   "pygments_lexer": "ipython3",
   "version": "3.7.2"
  }
 },
 "nbformat": 4,
 "nbformat_minor": 2
}
