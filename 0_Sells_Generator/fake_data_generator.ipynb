{
 "cells": [
  {
   "cell_type": "code",
   "execution_count": 228,
   "metadata": {},
   "outputs": [],
   "source": [
    "# Pandas\n",
    "import pandas as pd\n",
    "pd.set_option('display.max_rows', 500)\n",
    "pd.set_option('display.max_columns', 500)\n",
    "pd.set_option('display.width', 1000)\n",
    "\n",
    "from pandas import DataFrame, pivot_table\n",
    "\n",
    "\n",
    "\n",
    "import datetime as dt\n",
    "from faker import Faker\n",
    "fake = Faker()\n",
    "\n",
    "import numpy as np\n",
    "import random"
   ]
  },
  {
   "cell_type": "code",
   "execution_count": 234,
   "metadata": {},
   "outputs": [
    {
     "data": {
      "text/html": [
       "<div>\n",
       "<style scoped>\n",
       "    .dataframe tbody tr th:only-of-type {\n",
       "        vertical-align: middle;\n",
       "    }\n",
       "\n",
       "    .dataframe tbody tr th {\n",
       "        vertical-align: top;\n",
       "    }\n",
       "\n",
       "    .dataframe thead th {\n",
       "        text-align: right;\n",
       "    }\n",
       "</style>\n",
       "<table border=\"1\" class=\"dataframe\">\n",
       "  <thead>\n",
       "    <tr style=\"text-align: right;\">\n",
       "      <th></th>\n",
       "      <th>company_name</th>\n",
       "      <th>company_id</th>\n",
       "      <th>country</th>\n",
       "      <th>sector_name</th>\n",
       "      <th>order_id</th>\n",
       "      <th>product_name</th>\n",
       "      <th>NBI</th>\n",
       "      <th>order_date</th>\n",
       "    </tr>\n",
       "  </thead>\n",
       "  <tbody>\n",
       "    <tr>\n",
       "      <th>0</th>\n",
       "      <td>ICBC</td>\n",
       "      <td>1</td>\n",
       "      <td>Espagne</td>\n",
       "      <td>Electrical industry</td>\n",
       "      <td>1</td>\n",
       "      <td>International Retail Banking</td>\n",
       "      <td>-0.499521</td>\n",
       "      <td>2019-05-29</td>\n",
       "    </tr>\n",
       "    <tr>\n",
       "      <th>9</th>\n",
       "      <td>Agricultural Bank of China</td>\n",
       "      <td>8</td>\n",
       "      <td>Espagne</td>\n",
       "      <td>Energy industry</td>\n",
       "      <td>10</td>\n",
       "      <td>ALD Car Renting and Fleet Management</td>\n",
       "      <td>78.329945</td>\n",
       "      <td>2018-11-20</td>\n",
       "    </tr>\n",
       "  </tbody>\n",
       "</table>\n",
       "</div>"
      ],
      "text/plain": [
       "                 company_name  company_id  country          sector_name  order_id                          product_name        NBI  order_date\n",
       "0                        ICBC           1  Espagne  Electrical industry         1          International Retail Banking  -0.499521  2019-05-29\n",
       "9  Agricultural Bank of China           8  Espagne      Energy industry        10  ALD Car Renting and Fleet Management  78.329945  2018-11-20"
      ]
     },
     "execution_count": 234,
     "metadata": {},
     "output_type": "execute_result"
    }
   ],
   "source": [
    " def generate_random_array(n, _fct):\n",
    "    array = []\n",
    "    for i in range(n):\n",
    "        array.append( _fct() )\n",
    "        \n",
    "    return pd.Series(array)\n",
    "\n",
    "\n",
    " def shake_inputs(n, data):\n",
    "    array = []\n",
    "    \n",
    "    for i in range(n):\n",
    "        random_pos = np.random.normal(50, 10) \n",
    "        random_pos = int( random_pos ) \n",
    "    \n",
    "        array.append( data[ random_pos ] )\n",
    "        \n",
    "    return pd.Series(array)\n",
    "\n",
    " \n",
    "countries = ['France', 'Espagne', 'United Kinkdom', 'United State', 'Italy', 'Corse', 'Suisse']\n",
    "sectors = ['Automotive', 'Electrical industry', 'Chemical Industry', 'Energy industry', 'Metallurgical industry']\n",
    "product_names = ['ALD Car Renting and Fleet Management',  'Asset Based Financing',  'Asset Management',  'Asset Servicing',  'Clearing Services',  'Commodities',  'Commodity Financing',  'Credit',  'Custody Services',  'Equity',  'Export Finance',  'Financing',  'Forex',  'Fund Administration',  'Fund Distribution Services',  'General Purpose Financing',  'Hybrids',  'International Retail Banking',  'Issuer Services',  'Leverage Finance',  'Life and Dammage insurance',  'Liquidity Management',  'Loans syndication',  'MCIB Financing',  'Mergers and Acquisition',  'Others',  'Prime & Clearing']\n",
    "companies_100 = ['Apple', 'Microsoft', 'Amazon.com', 'Alphabet', 'Berkshire Hathaway', 'Facebook', 'Alibaba', 'Tencent Holdings', 'JPMorgan Chase', 'Johnson & Johnson', 'Visa', 'ExxonMobil', 'ICBC', 'Walmart', 'Bank of America', 'Nestle', 'Samsung Electronics', 'Procter & Gamble', 'Royal Dutch Shell', 'Intel', 'Cisco Systems', 'Mastercard', 'Verizon Communications', 'Walt Disney', 'AT&T', 'Chevron', 'Home Depot', 'China Construction Bank', 'Nike', 'Taiwan Semiconductor', 'Roche Holding', 'Ping An Insurance Group', 'Pfizer', 'Wells Fargo', 'Boeing', 'UnitedHealth Group', 'Coca-Cola', 'PetroChina', 'China Mobile', 'Agricultural Bank of China', 'Comcast', 'Merck & Co.', 'Oracle', 'PepsiCo', 'Kweichow Moutai', 'Toyota Motor', 'Novartis', 'HSBC Holdings', 'Citigroup', 'Netflix', 'Unilever', \"L'Oréal Group\", 'BP', 'Total', \"McDonald's\", 'Bank of China', 'BHP Billiton', 'SAP', 'Adobe Systems', 'Philip Morris International', 'China Merchants Bank', 'Abbott Laboratories', 'Reliance Industries', 'Broadcom', '3M', 'PayPal', 'Union Pacific', 'IBM', 'Honeywell International', 'AIA Group', 'Salesforce.com', 'Eli Lilly', 'United Technologies', 'Novo Nordisk', 'Tata Consultancy Services', 'Royal Bank of Canada', 'AbbVie', 'China Life Insurance', 'Accenture', 'NVIDIA', 'Medtronic', 'Softbank', 'Naspers', 'Amgen', 'Texas Instruments', 'Costco Wholesale', 'Sinopec', 'AIRBUS', 'Thermo Fisher Scientific', 'TD Bank Group', 'Allianz', 'Sanofi', 'Altria Group', 'Rio Tinto', 'Saudi Basic Industries', 'AstraZeneca', 'United Parcel Service', 'Linde', 'Inditex', 'Anheuser-Busch InBev']\n",
    "companies_50 = [\"Apple\", \"Microsoft\", \"Amazon.com\", \"Alphabet\", \"Berkshire Hathaway\", \"Facebook\", \"Alibaba\", \"Tencent Holdings\", \"JPMorgan Chase\", \"Johnson & Johnson\", \"Visa\", \"ExxonMobil\", \"ICBC\", \"Walmart\", \"Bank of America\", \"Nestle\", \"Samsung Electronics\", \"Procter & Gamble\", \"Royal Dutch Shell\", \"Intel\", \"Cisco Systems\", \"Mastercard\", \"Verizon Communications\", \"Walt Disney\", \"AT&T\", \"Chevron\", \"Home Depot\", \"China Construction Bank\", \"Nike\", \"Taiwan Semiconductor\", \"Roche Holding\", \"Ping An Insurance Group\", \"Pfizer\", \"Wells Fargo\", \"Boeing\", \"UnitedHealth Group\", \"Coca-Cola\", \"PetroChina\", \"China Mobile\", \"Agricultural Bank of China\", \"Comcast\", \"Merck & Co.\", \"Oracle\", \"PepsiCo\", \"Kweichow Moutai\", \"Toyota Motor\", \"Novartis\", \"HSBC Holdings\", \"Citigroup\", \"Netflix\"]\n",
    "\n",
    "\n",
    "\n",
    "\n",
    "\n",
    "\n",
    "rnd_count = 100000\n",
    "flat_data = pd.DataFrame()\n",
    "\n",
    "\n",
    "flat_data['company_name'] = np.random.choice(companies_50, rnd_count)\n",
    "flat_data['company_id'] = pd.factorize(flat_data['company_name'])[0] + 1\n",
    "\n",
    "\n",
    "\n",
    "flat_data['country'] = flat_data['company_id'].apply(lambda x: countries[x % len(countries)])\n",
    "flat_data['sector_name'] = flat_data['company_id'].apply(lambda x: sectors[x % len(sectors)])\n",
    "flat_data['order_id'] = range(1, len(flat_data)+1)\n",
    "\n",
    "\n",
    "def generate_revenus(x):\n",
    "    count_rnd_products = int(np.random.normal(5, 0.5))\n",
    "    random_products = np.random.choice(product_names, count_rnd_products)\n",
    "    \n",
    "    x['product_name'] = np.random.choice(random_products, len(x))\n",
    "    x['NBI'] = np.random.normal(50, 40, size=len(x))\n",
    "    \n",
    "    _start_date = '-{}y'.format(random.randint(1, 5))\n",
    "    \n",
    "    x['order_date'] = [ fake.date_between(start_date=_start_date, end_date=\"today\" ) for x in range(len(x))]\n",
    "    \n",
    "    return x\n",
    "\n",
    "flat_data = flat_data.groupby('sector_name').apply(generate_revenus)\n",
    "flat_data.query(\"country == 'Espagne'\").head(2)\n",
    "\n",
    "\n",
    "\n"
   ]
  },
  {
   "cell_type": "code",
   "execution_count": 235,
   "metadata": {},
   "outputs": [],
   "source": [
    "# add anormal behavior\n",
    "\n",
    "# group data in order to take a sample\n",
    "grouped_data = flat_data  \\\n",
    "    .groupby(['country', 'sector_name', 'company_name']) \\\n",
    "    .agg('product_name') \\\n",
    "    .unique() \\\n",
    "    .reset_index()\n",
    "grouped_data['product_name'] = grouped_data['product_name'].apply(lambda x: x[0])\n",
    "\n",
    "#take sample\n",
    "anomal_companies = grouped_data.sample(random.randint(5, 20))\n",
    "\n",
    "\n",
    "\n",
    "\n"
   ]
  },
  {
   "cell_type": "code",
   "execution_count": 236,
   "metadata": {},
   "outputs": [
    {
     "name": "stdout",
     "output_type": "stream",
     "text": [
      " not (company_name == \"Berkshire Hathaway\"  and country == \"United Kinkdom\" and sector_name == \"Chemical Industry\" and product_name == \"Issuer Services\") \n",
      " not (company_name == \"Comcast\"  and country == \"France\" and sector_name == \"Chemical Industry\" and product_name == \"Loans syndication\") \n",
      " not (company_name == \"Alphabet\"  and country == \"Italy\" and sector_name == \"Electrical industry\" and product_name == \"Life and Dammage insurance\") \n",
      " not (company_name == \"China Construction Bank\"  and country == \"United State\" and sector_name == \"Metallurgical industry\" and product_name == \"Export Finance\") \n",
      " not (company_name == \"Ping An Insurance Group\"  and country == \"Suisse\" and sector_name == \"Energy industry\" and product_name == \"Financing\") \n",
      " not (company_name == \"Nestle\"  and country == \"Italy\" and sector_name == \"Electrical industry\" and product_name == \"Leverage Finance\") \n",
      " not (company_name == \"PetroChina\"  and country == \"Italy\" and sector_name == \"Automotive\" and product_name == \"Asset Servicing\") \n",
      " not (company_name == \"Tencent Holdings\"  and country == \"United Kinkdom\" and sector_name == \"Electrical industry\" and product_name == \"Leverage Finance\") \n",
      " not (company_name == \"JPMorgan Chase\"  and country == \"Corse\" and sector_name == \"Electrical industry\" and product_name == \"Life and Dammage insurance\") \n",
      " not (company_name == \"Mastercard\"  and country == \"Corse\" and sector_name == \"Chemical Industry\" and product_name == \"Financing\") \n",
      " not (company_name == \"Intel\"  and country == \"France\" and sector_name == \"Electrical industry\" and product_name == \"International Retail Banking\") \n",
      " not (company_name == \"UnitedHealth Group\"  and country == \"France\" and sector_name == \"Metallurgical industry\" and product_name == \"Export Finance\") \n",
      " not (company_name == \"Apple\"  and country == \"Suisse\" and sector_name == \"Automotive\" and product_name == \"Commodities\") \n",
      " not (company_name == \"Roche Holding\"  and country == \"France\" and sector_name == \"Chemical Industry\" and product_name == \"General Purpose Financing\") \n",
      " not (company_name == \"ExxonMobil\"  and country == \"Suisse\" and sector_name == \"Energy industry\" and product_name == \"ALD Car Renting and Fleet Management\") \n",
      " not (company_name == \"HSBC Holdings\"  and country == \"United Kinkdom\" and sector_name == \"Chemical Industry\" and product_name == \"International Retail Banking\") \n",
      " not (company_name == \"Kweichow Moutai\"  and country == \"Corse\" and sector_name == \"Automotive\" and product_name == \"Asset Management\") \n",
      " not (company_name == \"Microsoft\"  and country == \"United Kinkdom\" and sector_name == \"Energy industry\" and product_name == \"Asset Management\") \n"
     ]
    }
   ],
   "source": [
    "filted_data = flat_data\n",
    "for index, company  in anomal_companies.iterrows():\n",
    "    _company = company['company_name']\n",
    "    _country = company['country']\n",
    "    _sector = company['sector_name']\n",
    "    _product = company['product_name']\n",
    "    \n",
    "    query_filter = ' not (company_name == \"{0}\"  and country == \"{1}\" and sector_name == \"{2}\" and product_name == \"{3}\") '.format(_company, _country, _sector, _product)\n",
    "    filted_data = filted_data.query(query_filter)\n",
    "    \n",
    "    print(query_filter)\n",
    "  "
   ]
  },
  {
   "cell_type": "code",
   "execution_count": 237,
   "metadata": {},
   "outputs": [],
   "source": [
    "filted_data.to_csv('../ressources/data/financial_sells_{0}.csv'.format(rnd_count))"
   ]
  },
  {
   "cell_type": "code",
   "execution_count": 222,
   "metadata": {},
   "outputs": [],
   "source": [
    "#flat_data.groupby('company_name').agg('NBI').sum().sort_values().plot.bar()"
   ]
  },
  {
   "cell_type": "code",
   "execution_count": 233,
   "metadata": {},
   "outputs": [],
   "source": [
    "#grouped_data = filted_data  \\\n",
    "#    .groupby(['country', 'sector_name', 'company_name']) \\\n",
    "#    .agg('product_name') \\\n",
    "#    .unique() \\\n",
    "#    .reset_index()\n",
    "#grouped_data['product_name'] = grouped_data['product_name'].apply(lambda x: x[0])\n",
    "#grouped_data.head(100000)"
   ]
  },
  {
   "cell_type": "code",
   "execution_count": null,
   "metadata": {},
   "outputs": [],
   "source": []
  },
  {
   "cell_type": "code",
   "execution_count": null,
   "metadata": {},
   "outputs": [],
   "source": []
  },
  {
   "cell_type": "code",
   "execution_count": null,
   "metadata": {},
   "outputs": [],
   "source": []
  }
 ],
 "metadata": {
  "kernelspec": {
   "display_name": "Python 3",
   "language": "python",
   "name": "python3"
  },
  "language_info": {
   "codemirror_mode": {
    "name": "ipython",
    "version": 3
   },
   "file_extension": ".py",
   "mimetype": "text/x-python",
   "name": "python",
   "nbconvert_exporter": "python",
   "pygments_lexer": "ipython3",
   "version": "3.7.2"
  }
 },
 "nbformat": 4,
 "nbformat_minor": 2
}
