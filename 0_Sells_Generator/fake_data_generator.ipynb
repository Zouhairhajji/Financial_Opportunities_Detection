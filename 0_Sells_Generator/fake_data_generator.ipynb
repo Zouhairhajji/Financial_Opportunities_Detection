{
 "cells": [
  {
   "cell_type": "code",
   "execution_count": 2,
   "metadata": {},
   "outputs": [],
   "source": [
    "# Pandas\n",
    "import pandas as pd\n",
    "from pandas import DataFrame, pivot_table\n",
    "\n",
    "import datetime as dt\n",
    "from faker import Faker\n",
    "fake = Faker()\n",
    "\n",
    "import numpy as np\n",
    "import random"
   ]
  },
  {
   "cell_type": "code",
   "execution_count": 61,
   "metadata": {},
   "outputs": [
    {
     "name": "stdout",
     "output_type": "stream",
     "text": [
      "\n",
      "Automotive\n",
      "Electrical industry\n",
      "Chemical Industry\n",
      "Energy industry\n",
      "Metallurgical industry\n"
     ]
    },
    {
     "data": {
      "text/html": [
       "<div>\n",
       "<style scoped>\n",
       "    .dataframe tbody tr th:only-of-type {\n",
       "        vertical-align: middle;\n",
       "    }\n",
       "\n",
       "    .dataframe tbody tr th {\n",
       "        vertical-align: top;\n",
       "    }\n",
       "\n",
       "    .dataframe thead th {\n",
       "        text-align: right;\n",
       "    }\n",
       "</style>\n",
       "<table border=\"1\" class=\"dataframe\">\n",
       "  <thead>\n",
       "    <tr style=\"text-align: right;\">\n",
       "      <th></th>\n",
       "      <th></th>\n",
       "      <th>company_name</th>\n",
       "      <th>company_id</th>\n",
       "      <th>country</th>\n",
       "      <th>sector_name</th>\n",
       "    </tr>\n",
       "    <tr>\n",
       "      <th>sector_name</th>\n",
       "      <th></th>\n",
       "      <th></th>\n",
       "      <th></th>\n",
       "      <th></th>\n",
       "      <th></th>\n",
       "    </tr>\n",
       "  </thead>\n",
       "  <tbody>\n",
       "    <tr>\n",
       "      <th>Automotive</th>\n",
       "      <th>867</th>\n",
       "      <td>Johnson-Reeves</td>\n",
       "      <td>20</td>\n",
       "      <td>France</td>\n",
       "      <td>Automotive</td>\n",
       "    </tr>\n",
       "    <tr>\n",
       "      <th>Chemical Industry</th>\n",
       "      <th>460</th>\n",
       "      <td>Myers, Snyder and Campbell</td>\n",
       "      <td>22</td>\n",
       "      <td>United Kinkdom</td>\n",
       "      <td>Chemical Industry</td>\n",
       "    </tr>\n",
       "    <tr>\n",
       "      <th>Electrical industry</th>\n",
       "      <th>187</th>\n",
       "      <td>Jackson Inc</td>\n",
       "      <td>41</td>\n",
       "      <td>Espagne</td>\n",
       "      <td>Electrical industry</td>\n",
       "    </tr>\n",
       "    <tr>\n",
       "      <th>Energy industry</th>\n",
       "      <th>312</th>\n",
       "      <td>Allen-Roberts</td>\n",
       "      <td>8</td>\n",
       "      <td>United State</td>\n",
       "      <td>Energy industry</td>\n",
       "    </tr>\n",
       "    <tr>\n",
       "      <th>Metallurgical industry</th>\n",
       "      <th>107</th>\n",
       "      <td>Wilson-Berger</td>\n",
       "      <td>29</td>\n",
       "      <td>Italy</td>\n",
       "      <td>Metallurgical industry</td>\n",
       "    </tr>\n",
       "  </tbody>\n",
       "</table>\n",
       "</div>"
      ],
      "text/plain": [
       "                                          company_name  company_id  \\\n",
       "sector_name                                                          \n",
       "Automotive             867              Johnson-Reeves          20   \n",
       "Chemical Industry      460  Myers, Snyder and Campbell          22   \n",
       "Electrical industry    187                 Jackson Inc          41   \n",
       "Energy industry        312               Allen-Roberts           8   \n",
       "Metallurgical industry 107               Wilson-Berger          29   \n",
       "\n",
       "                                   country             sector_name  \n",
       "sector_name                                                         \n",
       "Automotive             867          France              Automotive  \n",
       "Chemical Industry      460  United Kinkdom       Chemical Industry  \n",
       "Electrical industry    187         Espagne     Electrical industry  \n",
       "Energy industry        312    United State         Energy industry  \n",
       "Metallurgical industry 107           Italy  Metallurgical industry  "
      ]
     },
     "execution_count": 61,
     "metadata": {},
     "output_type": "execute_result"
    }
   ],
   "source": [
    " def generate_random_array(n, _fct):\n",
    "    array = []\n",
    "    for i in range(n):\n",
    "        array.append( _fct() )\n",
    "        \n",
    "    return pd.Series(array)\n",
    "\n",
    "\n",
    " def shake_inputs(n, data):\n",
    "    array = []\n",
    "    \n",
    "    for i in range(n):\n",
    "        random_pos = np.random.normal(50, 10) \n",
    "        random_pos = int( random_pos ) \n",
    "    \n",
    "        array.append( data[ random_pos ] )\n",
    "        \n",
    "    return pd.Series(array)\n",
    "\n",
    " \n",
    "countries = ['France', 'Espagne', 'United Kinkdom', 'United State', 'Italy']\n",
    "sectors = ['Automotive', 'Electrical industry', 'Chemical Industry', 'Energy industry', 'Metallurgical industry']\n",
    "product_names = ['ALD Car Renting and Fleet Management',  'Asset Based Financing',  'Asset Management',  'Asset Servicing',  'Clearing Services',  'Commodities',  'Commodity Financing',  'Credit',  'Custody Services',  'Equity',  'Export Finance',  'Financing',  'Forex',  'Fund Administration',  'Fund Distribution Services',  'General Purpose Financing',  'Hybrids',  'International Retail Banking',  'Issuer Services',  'Leverage Finance',  'Life and Dammage insurance',  'Liquidity Management',  'Loans syndication',  'MCIB Financing',  'Mergers and Acquisition',  'Others',  'Prime & Clearing']\n",
    "\n",
    "generate_date = lambda : fake.date_between(start_date=\"-5y\", end_date=\"today\")\n",
    "generate_company = lambda : fake.company()\n",
    "generate_revenus = lambda : np.random.normal(50, 28)\n",
    "generate_product = lambda: product_names[ random.randint(0, len(product_names) -1) ]\n",
    "generate_sector = lambda: sectors[ random.randint(0, len(sectors) -1) ]\n",
    " \n",
    "    \n",
    "\n",
    "rnd_count = 1000\n",
    "flat_data = pd.DataFrame()\n",
    "\n",
    "rnd_companies = generate_random_array(100, generate_company).unique()\n",
    "flat_data['company_name'] = shake_inputs(rnd_count, rnd_companies)\n",
    "flat_data['company_id'] = pd.factorize(flat_data['company_name'])[0] + 1\n",
    "\n",
    "\n",
    "\n",
    "flat_data['country'] = flat_data['company_id'].apply(lambda x: countries[x % len(countries)])\n",
    "flat_data['sector_name'] = flat_data['company_id'].apply(lambda x: sectors[x % len(sectors)])\n",
    "\n",
    "print(  )\n",
    "\n",
    "for sector in sectors:\n",
    "    print(sector)\n",
    "\n",
    "#flat_data['dates'] = generate_random_array(rnd_count, generate_date)\n",
    "\n",
    "\n",
    "\n",
    "\n",
    "\n",
    "#flat_data['company_id'] = pd.factorize(flat_data['company_name'])[0]\n",
    "#flat_data['NBI'] = generate_random_array(rnd_count, generate_revenus)\n",
    "#flat_data['product_name'] = generate_random_array(rnd_count, generate_product) \n",
    "\n",
    "\n",
    "flat_data.groupby('sector_name').apply(lambda x: x.sample(1))\n",
    "\n",
    "#np.random.choice(product_names, 5)\n"
   ]
  },
  {
   "cell_type": "code",
   "execution_count": 4,
   "metadata": {},
   "outputs": [
    {
     "data": {
      "text/plain": [
       "1000"
      ]
     },
     "execution_count": 4,
     "metadata": {},
     "output_type": "execute_result"
    }
   ],
   "source": [
    "len(flat_data)"
   ]
  },
  {
   "cell_type": "code",
   "execution_count": 16,
   "metadata": {},
   "outputs": [],
   "source": [
    "flat_data.to_csv('../ressources/data/financial_sells_{0}.csv'.format(rnd_count))"
   ]
  },
  {
   "cell_type": "code",
   "execution_count": 4,
   "metadata": {},
   "outputs": [
    {
     "data": {
      "text/plain": [
       "<matplotlib.axes._subplots.AxesSubplot at 0x11f4d7eb8>"
      ]
     },
     "execution_count": 4,
     "metadata": {},
     "output_type": "execute_result"
    }
   ],
   "source": [
    "flat_data.groupby('company_name').agg('NBI').sum().sort_values().plot.bar()"
   ]
  },
  {
   "cell_type": "code",
   "execution_count": null,
   "metadata": {},
   "outputs": [],
   "source": []
  },
  {
   "cell_type": "code",
   "execution_count": null,
   "metadata": {},
   "outputs": [],
   "source": []
  },
  {
   "cell_type": "code",
   "execution_count": null,
   "metadata": {},
   "outputs": [],
   "source": []
  },
  {
   "cell_type": "code",
   "execution_count": null,
   "metadata": {},
   "outputs": [],
   "source": []
  }
 ],
 "metadata": {
  "kernelspec": {
   "display_name": "Python 3",
   "language": "python",
   "name": "python3"
  },
  "language_info": {
   "codemirror_mode": {
    "name": "ipython",
    "version": 3
   },
   "file_extension": ".py",
   "mimetype": "text/x-python",
   "name": "python",
   "nbconvert_exporter": "python",
   "pygments_lexer": "ipython3",
   "version": "3.7.2"
  }
 },
 "nbformat": 4,
 "nbformat_minor": 2
}
